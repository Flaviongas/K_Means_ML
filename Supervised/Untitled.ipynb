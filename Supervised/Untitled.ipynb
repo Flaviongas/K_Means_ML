{
 "cells": [
  {
   "cell_type": "code",
   "execution_count": 48,
   "id": "36f7e7e6-7dfa-4a82-9277-bcedc9412bfa",
   "metadata": {},
   "outputs": [],
   "source": [
    "import pandas as pd\n",
    "from sklearn.model_selection import train_test_split\n",
    "from sklearn.pipeline import Pipeline\n",
    "from sklearn.preprocessing import StandardScaler\n",
    "from sklearn.linear_model import LogisticRegression\n",
    "from sklearn.ensemble import RandomForestClassifier\n",
    "from sklearn.metrics import accuracy_score, precision_score, recall_score, f1_score, confusion_matrix, classification_report,ConfusionMatrixDisplay\n",
    "from sklearn.decomposition import PCA, IncrementalPCA, KernelPCA\n",
    "import matplotlib.pyplot as plt\n",
    "import numpy as np\n",
    "import seaborn as sns\n",
    "from sklearn.model_selection import RandomizedSearchCV\n",
    "from scipy.stats import randint\n",
    "from sklearn.model_selection import GridSearchCV\n",
    "from sklearn.ensemble import RandomForestClassifier, VotingClassifier"
   ]
  },
  {
   "cell_type": "code",
   "execution_count": 49,
   "id": "2ec11a34",
   "metadata": {},
   "outputs": [],
   "source": [
    "path = '../Datasets/star_classification.csv'\n",
    "df = pd.read_csv(path)"
   ]
  },
  {
   "cell_type": "code",
   "execution_count": 50,
   "id": "9d838e80",
   "metadata": {},
   "outputs": [
    {
     "data": {
      "text/html": [
       "<div>\n",
       "<style scoped>\n",
       "    .dataframe tbody tr th:only-of-type {\n",
       "        vertical-align: middle;\n",
       "    }\n",
       "\n",
       "    .dataframe tbody tr th {\n",
       "        vertical-align: top;\n",
       "    }\n",
       "\n",
       "    .dataframe thead th {\n",
       "        text-align: right;\n",
       "    }\n",
       "</style>\n",
       "<table border=\"1\" class=\"dataframe\">\n",
       "  <thead>\n",
       "    <tr style=\"text-align: right;\">\n",
       "      <th></th>\n",
       "      <th>obj_ID</th>\n",
       "      <th>alpha</th>\n",
       "      <th>delta</th>\n",
       "      <th>u</th>\n",
       "      <th>g</th>\n",
       "      <th>r</th>\n",
       "      <th>i</th>\n",
       "      <th>z</th>\n",
       "      <th>run_ID</th>\n",
       "      <th>rerun_ID</th>\n",
       "      <th>cam_col</th>\n",
       "      <th>field_ID</th>\n",
       "      <th>spec_obj_ID</th>\n",
       "      <th>class</th>\n",
       "      <th>redshift</th>\n",
       "      <th>plate</th>\n",
       "      <th>MJD</th>\n",
       "      <th>fiber_ID</th>\n",
       "    </tr>\n",
       "  </thead>\n",
       "  <tbody>\n",
       "    <tr>\n",
       "      <th>0</th>\n",
       "      <td>1.237661e+18</td>\n",
       "      <td>135.689107</td>\n",
       "      <td>32.494632</td>\n",
       "      <td>23.87882</td>\n",
       "      <td>22.27530</td>\n",
       "      <td>20.39501</td>\n",
       "      <td>19.16573</td>\n",
       "      <td>18.79371</td>\n",
       "      <td>3606</td>\n",
       "      <td>301</td>\n",
       "      <td>2</td>\n",
       "      <td>79</td>\n",
       "      <td>6.543777e+18</td>\n",
       "      <td>GALAXY</td>\n",
       "      <td>0.634794</td>\n",
       "      <td>5812</td>\n",
       "      <td>56354</td>\n",
       "      <td>171</td>\n",
       "    </tr>\n",
       "    <tr>\n",
       "      <th>1</th>\n",
       "      <td>1.237665e+18</td>\n",
       "      <td>144.826101</td>\n",
       "      <td>31.274185</td>\n",
       "      <td>24.77759</td>\n",
       "      <td>22.83188</td>\n",
       "      <td>22.58444</td>\n",
       "      <td>21.16812</td>\n",
       "      <td>21.61427</td>\n",
       "      <td>4518</td>\n",
       "      <td>301</td>\n",
       "      <td>5</td>\n",
       "      <td>119</td>\n",
       "      <td>1.176014e+19</td>\n",
       "      <td>GALAXY</td>\n",
       "      <td>0.779136</td>\n",
       "      <td>10445</td>\n",
       "      <td>58158</td>\n",
       "      <td>427</td>\n",
       "    </tr>\n",
       "    <tr>\n",
       "      <th>2</th>\n",
       "      <td>1.237661e+18</td>\n",
       "      <td>142.188790</td>\n",
       "      <td>35.582444</td>\n",
       "      <td>25.26307</td>\n",
       "      <td>22.66389</td>\n",
       "      <td>20.60976</td>\n",
       "      <td>19.34857</td>\n",
       "      <td>18.94827</td>\n",
       "      <td>3606</td>\n",
       "      <td>301</td>\n",
       "      <td>2</td>\n",
       "      <td>120</td>\n",
       "      <td>5.152200e+18</td>\n",
       "      <td>GALAXY</td>\n",
       "      <td>0.644195</td>\n",
       "      <td>4576</td>\n",
       "      <td>55592</td>\n",
       "      <td>299</td>\n",
       "    </tr>\n",
       "    <tr>\n",
       "      <th>3</th>\n",
       "      <td>1.237663e+18</td>\n",
       "      <td>338.741038</td>\n",
       "      <td>-0.402828</td>\n",
       "      <td>22.13682</td>\n",
       "      <td>23.77656</td>\n",
       "      <td>21.61162</td>\n",
       "      <td>20.50454</td>\n",
       "      <td>19.25010</td>\n",
       "      <td>4192</td>\n",
       "      <td>301</td>\n",
       "      <td>3</td>\n",
       "      <td>214</td>\n",
       "      <td>1.030107e+19</td>\n",
       "      <td>GALAXY</td>\n",
       "      <td>0.932346</td>\n",
       "      <td>9149</td>\n",
       "      <td>58039</td>\n",
       "      <td>775</td>\n",
       "    </tr>\n",
       "    <tr>\n",
       "      <th>4</th>\n",
       "      <td>1.237680e+18</td>\n",
       "      <td>345.282593</td>\n",
       "      <td>21.183866</td>\n",
       "      <td>19.43718</td>\n",
       "      <td>17.58028</td>\n",
       "      <td>16.49747</td>\n",
       "      <td>15.97711</td>\n",
       "      <td>15.54461</td>\n",
       "      <td>8102</td>\n",
       "      <td>301</td>\n",
       "      <td>3</td>\n",
       "      <td>137</td>\n",
       "      <td>6.891865e+18</td>\n",
       "      <td>GALAXY</td>\n",
       "      <td>0.116123</td>\n",
       "      <td>6121</td>\n",
       "      <td>56187</td>\n",
       "      <td>842</td>\n",
       "    </tr>\n",
       "  </tbody>\n",
       "</table>\n",
       "</div>"
      ],
      "text/plain": [
       "         obj_ID       alpha      delta         u         g         r  \\\n",
       "0  1.237661e+18  135.689107  32.494632  23.87882  22.27530  20.39501   \n",
       "1  1.237665e+18  144.826101  31.274185  24.77759  22.83188  22.58444   \n",
       "2  1.237661e+18  142.188790  35.582444  25.26307  22.66389  20.60976   \n",
       "3  1.237663e+18  338.741038  -0.402828  22.13682  23.77656  21.61162   \n",
       "4  1.237680e+18  345.282593  21.183866  19.43718  17.58028  16.49747   \n",
       "\n",
       "          i         z  run_ID  rerun_ID  cam_col  field_ID   spec_obj_ID  \\\n",
       "0  19.16573  18.79371    3606       301        2        79  6.543777e+18   \n",
       "1  21.16812  21.61427    4518       301        5       119  1.176014e+19   \n",
       "2  19.34857  18.94827    3606       301        2       120  5.152200e+18   \n",
       "3  20.50454  19.25010    4192       301        3       214  1.030107e+19   \n",
       "4  15.97711  15.54461    8102       301        3       137  6.891865e+18   \n",
       "\n",
       "    class  redshift  plate    MJD  fiber_ID  \n",
       "0  GALAXY  0.634794   5812  56354       171  \n",
       "1  GALAXY  0.779136  10445  58158       427  \n",
       "2  GALAXY  0.644195   4576  55592       299  \n",
       "3  GALAXY  0.932346   9149  58039       775  \n",
       "4  GALAXY  0.116123   6121  56187       842  "
      ]
     },
     "execution_count": 50,
     "metadata": {},
     "output_type": "execute_result"
    }
   ],
   "source": [
    "df.head()"
   ]
  },
  {
   "cell_type": "code",
   "execution_count": 51,
   "id": "fa7ecfe0",
   "metadata": {},
   "outputs": [
    {
     "data": {
      "text/plain": [
       "Index(['obj_ID', 'alpha', 'delta', 'u', 'g', 'r', 'i', 'z', 'run_ID',\n",
       "       'rerun_ID', 'cam_col', 'field_ID', 'spec_obj_ID', 'class', 'redshift',\n",
       "       'plate', 'MJD', 'fiber_ID'],\n",
       "      dtype='object')"
      ]
     },
     "execution_count": 51,
     "metadata": {},
     "output_type": "execute_result"
    }
   ],
   "source": [
    "df.columns"
   ]
  },
  {
   "cell_type": "code",
   "execution_count": 52,
   "id": "e3bd256e",
   "metadata": {},
   "outputs": [
    {
     "data": {
      "text/plain": [
       "obj_ID         0\n",
       "alpha          0\n",
       "delta          0\n",
       "u              0\n",
       "g              0\n",
       "r              0\n",
       "i              0\n",
       "z              0\n",
       "run_ID         0\n",
       "rerun_ID       0\n",
       "cam_col        0\n",
       "field_ID       0\n",
       "spec_obj_ID    0\n",
       "class          0\n",
       "redshift       0\n",
       "plate          0\n",
       "MJD            0\n",
       "fiber_ID       0\n",
       "dtype: int64"
      ]
     },
     "execution_count": 52,
     "metadata": {},
     "output_type": "execute_result"
    }
   ],
   "source": [
    "#comprobacion de valores nulos\n",
    "df.isnull().sum()"
   ]
  },
  {
   "cell_type": "code",
   "execution_count": 53,
   "id": "70b2db39",
   "metadata": {},
   "outputs": [
    {
     "data": {
      "text/plain": [
       "np.int64(0)"
      ]
     },
     "execution_count": 53,
     "metadata": {},
     "output_type": "execute_result"
    }
   ],
   "source": [
    "#observar si existen duplicados\n",
    "df.duplicated().sum()"
   ]
  },
  {
   "cell_type": "code",
   "execution_count": 54,
   "id": "2c30195d",
   "metadata": {},
   "outputs": [
    {
     "data": {
      "text/html": [
       "<div>\n",
       "<style scoped>\n",
       "    .dataframe tbody tr th:only-of-type {\n",
       "        vertical-align: middle;\n",
       "    }\n",
       "\n",
       "    .dataframe tbody tr th {\n",
       "        vertical-align: top;\n",
       "    }\n",
       "\n",
       "    .dataframe thead th {\n",
       "        text-align: right;\n",
       "    }\n",
       "</style>\n",
       "<table border=\"1\" class=\"dataframe\">\n",
       "  <thead>\n",
       "    <tr style=\"text-align: right;\">\n",
       "      <th></th>\n",
       "      <th>obj_ID</th>\n",
       "      <th>alpha</th>\n",
       "      <th>delta</th>\n",
       "      <th>u</th>\n",
       "      <th>g</th>\n",
       "      <th>r</th>\n",
       "      <th>i</th>\n",
       "      <th>z</th>\n",
       "      <th>run_ID</th>\n",
       "      <th>rerun_ID</th>\n",
       "      <th>cam_col</th>\n",
       "      <th>field_ID</th>\n",
       "      <th>spec_obj_ID</th>\n",
       "      <th>redshift</th>\n",
       "      <th>plate</th>\n",
       "      <th>MJD</th>\n",
       "      <th>fiber_ID</th>\n",
       "    </tr>\n",
       "  </thead>\n",
       "  <tbody>\n",
       "    <tr>\n",
       "      <th>count</th>\n",
       "      <td>1.000000e+05</td>\n",
       "      <td>100000.000000</td>\n",
       "      <td>100000.000000</td>\n",
       "      <td>100000.000000</td>\n",
       "      <td>100000.000000</td>\n",
       "      <td>100000.000000</td>\n",
       "      <td>100000.000000</td>\n",
       "      <td>100000.000000</td>\n",
       "      <td>100000.000000</td>\n",
       "      <td>100000.0</td>\n",
       "      <td>100000.000000</td>\n",
       "      <td>100000.000000</td>\n",
       "      <td>1.000000e+05</td>\n",
       "      <td>100000.000000</td>\n",
       "      <td>100000.000000</td>\n",
       "      <td>100000.000000</td>\n",
       "      <td>100000.000000</td>\n",
       "    </tr>\n",
       "    <tr>\n",
       "      <th>mean</th>\n",
       "      <td>1.237665e+18</td>\n",
       "      <td>177.629117</td>\n",
       "      <td>24.135305</td>\n",
       "      <td>21.980468</td>\n",
       "      <td>20.531387</td>\n",
       "      <td>19.645762</td>\n",
       "      <td>19.084854</td>\n",
       "      <td>18.668810</td>\n",
       "      <td>4481.366060</td>\n",
       "      <td>301.0</td>\n",
       "      <td>3.511610</td>\n",
       "      <td>186.130520</td>\n",
       "      <td>5.783882e+18</td>\n",
       "      <td>0.576661</td>\n",
       "      <td>5137.009660</td>\n",
       "      <td>55588.647500</td>\n",
       "      <td>449.312740</td>\n",
       "    </tr>\n",
       "    <tr>\n",
       "      <th>std</th>\n",
       "      <td>8.438560e+12</td>\n",
       "      <td>96.502241</td>\n",
       "      <td>19.644665</td>\n",
       "      <td>31.769291</td>\n",
       "      <td>31.750292</td>\n",
       "      <td>1.854760</td>\n",
       "      <td>1.757895</td>\n",
       "      <td>31.728152</td>\n",
       "      <td>1964.764593</td>\n",
       "      <td>0.0</td>\n",
       "      <td>1.586912</td>\n",
       "      <td>149.011073</td>\n",
       "      <td>3.324016e+18</td>\n",
       "      <td>0.730707</td>\n",
       "      <td>2952.303351</td>\n",
       "      <td>1808.484233</td>\n",
       "      <td>272.498404</td>\n",
       "    </tr>\n",
       "    <tr>\n",
       "      <th>min</th>\n",
       "      <td>1.237646e+18</td>\n",
       "      <td>0.005528</td>\n",
       "      <td>-18.785328</td>\n",
       "      <td>-9999.000000</td>\n",
       "      <td>-9999.000000</td>\n",
       "      <td>9.822070</td>\n",
       "      <td>9.469903</td>\n",
       "      <td>-9999.000000</td>\n",
       "      <td>109.000000</td>\n",
       "      <td>301.0</td>\n",
       "      <td>1.000000</td>\n",
       "      <td>11.000000</td>\n",
       "      <td>2.995191e+17</td>\n",
       "      <td>-0.009971</td>\n",
       "      <td>266.000000</td>\n",
       "      <td>51608.000000</td>\n",
       "      <td>1.000000</td>\n",
       "    </tr>\n",
       "    <tr>\n",
       "      <th>25%</th>\n",
       "      <td>1.237659e+18</td>\n",
       "      <td>127.518222</td>\n",
       "      <td>5.146771</td>\n",
       "      <td>20.352353</td>\n",
       "      <td>18.965230</td>\n",
       "      <td>18.135828</td>\n",
       "      <td>17.732285</td>\n",
       "      <td>17.460677</td>\n",
       "      <td>3187.000000</td>\n",
       "      <td>301.0</td>\n",
       "      <td>2.000000</td>\n",
       "      <td>82.000000</td>\n",
       "      <td>2.844138e+18</td>\n",
       "      <td>0.054517</td>\n",
       "      <td>2526.000000</td>\n",
       "      <td>54234.000000</td>\n",
       "      <td>221.000000</td>\n",
       "    </tr>\n",
       "    <tr>\n",
       "      <th>50%</th>\n",
       "      <td>1.237663e+18</td>\n",
       "      <td>180.900700</td>\n",
       "      <td>23.645922</td>\n",
       "      <td>22.179135</td>\n",
       "      <td>21.099835</td>\n",
       "      <td>20.125290</td>\n",
       "      <td>19.405145</td>\n",
       "      <td>19.004595</td>\n",
       "      <td>4188.000000</td>\n",
       "      <td>301.0</td>\n",
       "      <td>4.000000</td>\n",
       "      <td>146.000000</td>\n",
       "      <td>5.614883e+18</td>\n",
       "      <td>0.424173</td>\n",
       "      <td>4987.000000</td>\n",
       "      <td>55868.500000</td>\n",
       "      <td>433.000000</td>\n",
       "    </tr>\n",
       "    <tr>\n",
       "      <th>75%</th>\n",
       "      <td>1.237668e+18</td>\n",
       "      <td>233.895005</td>\n",
       "      <td>39.901550</td>\n",
       "      <td>23.687440</td>\n",
       "      <td>22.123767</td>\n",
       "      <td>21.044785</td>\n",
       "      <td>20.396495</td>\n",
       "      <td>19.921120</td>\n",
       "      <td>5326.000000</td>\n",
       "      <td>301.0</td>\n",
       "      <td>5.000000</td>\n",
       "      <td>241.000000</td>\n",
       "      <td>8.332144e+18</td>\n",
       "      <td>0.704154</td>\n",
       "      <td>7400.250000</td>\n",
       "      <td>56777.000000</td>\n",
       "      <td>645.000000</td>\n",
       "    </tr>\n",
       "    <tr>\n",
       "      <th>max</th>\n",
       "      <td>1.237681e+18</td>\n",
       "      <td>359.999810</td>\n",
       "      <td>83.000519</td>\n",
       "      <td>32.781390</td>\n",
       "      <td>31.602240</td>\n",
       "      <td>29.571860</td>\n",
       "      <td>32.141470</td>\n",
       "      <td>29.383740</td>\n",
       "      <td>8162.000000</td>\n",
       "      <td>301.0</td>\n",
       "      <td>6.000000</td>\n",
       "      <td>989.000000</td>\n",
       "      <td>1.412694e+19</td>\n",
       "      <td>7.011245</td>\n",
       "      <td>12547.000000</td>\n",
       "      <td>58932.000000</td>\n",
       "      <td>1000.000000</td>\n",
       "    </tr>\n",
       "  </tbody>\n",
       "</table>\n",
       "</div>"
      ],
      "text/plain": [
       "             obj_ID          alpha          delta              u  \\\n",
       "count  1.000000e+05  100000.000000  100000.000000  100000.000000   \n",
       "mean   1.237665e+18     177.629117      24.135305      21.980468   \n",
       "std    8.438560e+12      96.502241      19.644665      31.769291   \n",
       "min    1.237646e+18       0.005528     -18.785328   -9999.000000   \n",
       "25%    1.237659e+18     127.518222       5.146771      20.352353   \n",
       "50%    1.237663e+18     180.900700      23.645922      22.179135   \n",
       "75%    1.237668e+18     233.895005      39.901550      23.687440   \n",
       "max    1.237681e+18     359.999810      83.000519      32.781390   \n",
       "\n",
       "                   g              r              i              z  \\\n",
       "count  100000.000000  100000.000000  100000.000000  100000.000000   \n",
       "mean       20.531387      19.645762      19.084854      18.668810   \n",
       "std        31.750292       1.854760       1.757895      31.728152   \n",
       "min     -9999.000000       9.822070       9.469903   -9999.000000   \n",
       "25%        18.965230      18.135828      17.732285      17.460677   \n",
       "50%        21.099835      20.125290      19.405145      19.004595   \n",
       "75%        22.123767      21.044785      20.396495      19.921120   \n",
       "max        31.602240      29.571860      32.141470      29.383740   \n",
       "\n",
       "              run_ID  rerun_ID        cam_col       field_ID   spec_obj_ID  \\\n",
       "count  100000.000000  100000.0  100000.000000  100000.000000  1.000000e+05   \n",
       "mean     4481.366060     301.0       3.511610     186.130520  5.783882e+18   \n",
       "std      1964.764593       0.0       1.586912     149.011073  3.324016e+18   \n",
       "min       109.000000     301.0       1.000000      11.000000  2.995191e+17   \n",
       "25%      3187.000000     301.0       2.000000      82.000000  2.844138e+18   \n",
       "50%      4188.000000     301.0       4.000000     146.000000  5.614883e+18   \n",
       "75%      5326.000000     301.0       5.000000     241.000000  8.332144e+18   \n",
       "max      8162.000000     301.0       6.000000     989.000000  1.412694e+19   \n",
       "\n",
       "            redshift          plate            MJD       fiber_ID  \n",
       "count  100000.000000  100000.000000  100000.000000  100000.000000  \n",
       "mean        0.576661    5137.009660   55588.647500     449.312740  \n",
       "std         0.730707    2952.303351    1808.484233     272.498404  \n",
       "min        -0.009971     266.000000   51608.000000       1.000000  \n",
       "25%         0.054517    2526.000000   54234.000000     221.000000  \n",
       "50%         0.424173    4987.000000   55868.500000     433.000000  \n",
       "75%         0.704154    7400.250000   56777.000000     645.000000  \n",
       "max         7.011245   12547.000000   58932.000000    1000.000000  "
      ]
     },
     "execution_count": 54,
     "metadata": {},
     "output_type": "execute_result"
    }
   ],
   "source": [
    "df.describe()"
   ]
  },
  {
   "cell_type": "code",
   "execution_count": 55,
   "id": "3e04a84f",
   "metadata": {},
   "outputs": [
    {
     "name": "stdout",
     "output_type": "stream",
     "text": [
      "<class 'pandas.core.frame.DataFrame'>\n",
      "RangeIndex: 100000 entries, 0 to 99999\n",
      "Data columns (total 18 columns):\n",
      " #   Column       Non-Null Count   Dtype  \n",
      "---  ------       --------------   -----  \n",
      " 0   obj_ID       100000 non-null  float64\n",
      " 1   alpha        100000 non-null  float64\n",
      " 2   delta        100000 non-null  float64\n",
      " 3   u            100000 non-null  float64\n",
      " 4   g            100000 non-null  float64\n",
      " 5   r            100000 non-null  float64\n",
      " 6   i            100000 non-null  float64\n",
      " 7   z            100000 non-null  float64\n",
      " 8   run_ID       100000 non-null  int64  \n",
      " 9   rerun_ID     100000 non-null  int64  \n",
      " 10  cam_col      100000 non-null  int64  \n",
      " 11  field_ID     100000 non-null  int64  \n",
      " 12  spec_obj_ID  100000 non-null  float64\n",
      " 13  class        100000 non-null  object \n",
      " 14  redshift     100000 non-null  float64\n",
      " 15  plate        100000 non-null  int64  \n",
      " 16  MJD          100000 non-null  int64  \n",
      " 17  fiber_ID     100000 non-null  int64  \n",
      "dtypes: float64(10), int64(7), object(1)\n",
      "memory usage: 13.7+ MB\n"
     ]
    }
   ],
   "source": [
    "df.info()"
   ]
  },
  {
   "cell_type": "code",
   "execution_count": 56,
   "id": "07fc0e4a",
   "metadata": {},
   "outputs": [
    {
     "data": {
      "image/png": "[encoded data removed]",
      "text/plain": [
       "<Figure size 700x700 with 1 Axes>"
      ]
     },
     "metadata": {},
     "output_type": "display_data"
    }
   ],
   "source": [
    "dist = df['class'].value_counts(normalize=True)\n",
    "plt.figure(figsize=(7, 7))\n",
    "plt.pie(dist, labels=dist.index, autopct='%1.1f%%', startangle=90, colors=['#FF9999', '#66B3FF', '#99FF99'])\n",
    "plt.title('Distribución de la variable objetivo')\n",
    "plt.axis('equal')  \n",
    "plt.show()"
   ]
  },
  {
   "cell_type": "code",
   "execution_count": 57,
   "id": "55fcdde3",
   "metadata": {},
   "outputs": [
    {
     "name": "stdout",
     "output_type": "stream",
     "text": [
      "Índice de Gini: 0.5640471618\n"
     ]
    }
   ],
   "source": [
    "gini_index = 1 - (dist ** 2).sum()\n",
    "\n",
    "print(f'Índice de Gini: {gini_index}')"
   ]
  },
  {
   "cell_type": "code",
   "execution_count": 58,
   "id": "4791b931",
   "metadata": {},
   "outputs": [],
   "source": [
    "df = df.drop(columns=['obj_ID','spec_obj_ID','field_ID','run_ID','rerun_ID','fiber_ID'])"
   ]
  },
  {
   "cell_type": "code",
   "execution_count": 59,
   "id": "c58412b3",
   "metadata": {},
   "outputs": [],
   "source": [
    "def box_plots(df):\n",
    "    new_df = df.drop(columns='class')\n",
    "    for col in new_df.columns:\n",
    "        new_df.boxplot(column = col)\n",
    "        plt.title(col)\n",
    "        plt.show()\n",
    "\n",
    "#box_plots(df)    "
   ]
  },
  {
   "cell_type": "code",
   "execution_count": 60,
   "id": "562c7e0d",
   "metadata": {},
   "outputs": [
    {
     "name": "stdout",
     "output_type": "stream",
     "text": [
      "100000\n"
     ]
    }
   ],
   "source": [
    "print(len(df))"
   ]
  },
  {
   "cell_type": "code",
   "execution_count": 61,
   "id": "ad830e52",
   "metadata": {},
   "outputs": [
    {
     "name": "stdout",
     "output_type": "stream",
     "text": [
      "922\n"
     ]
    }
   ],
   "source": [
    "def manejo_outliers(df):\n",
    "    new_df = df.copy()\n",
    "    \n",
    "    for col in new_df.columns:\n",
    "      \n",
    "        if not pd.api.types.is_numeric_dtype(new_df[col]):\n",
    "            continue\n",
    "\n",
    "        limite_inferior = new_df[col].quantile(0.0005)   # 0.05%\n",
    "        limite_superior = new_df[col].quantile(0.9995)   # 99.95%\n",
    "        \n",
    "\n",
    "        new_df = new_df[\n",
    "            (new_df[col] >= limite_inferior) & \n",
    "            (new_df[col] <= limite_superior)\n",
    "        ]\n",
    "    \n",
    "    return new_df\n",
    "\n",
    "df = manejo_outliers(df)\n",
    "print(100000-len(df))"
   ]
  },
  {
   "cell_type": "code",
   "execution_count": 62,
   "id": "f571883d",
   "metadata": {},
   "outputs": [
    {
     "data": {
      "text/plain": [
       "<Axes: >"
      ]
     },
     "execution_count": 62,
     "metadata": {},
     "output_type": "execute_result"
    },
    {
     "data": {
      "image/png": "[encoded data removed]",
      "text/plain": [
       "<Figure size 640x480 with 2 Axes>"
      ]
     },
     "metadata": {},
     "output_type": "display_data"
    }
   ],
   "source": [
    "#comento esta linea porque en la steam deck no se me renderiza el grafico\n",
    "corr = df.corr(numeric_only=True)\n",
    "#print(corr)\n",
    "sns.heatmap(corr, annot=True, cmap='coolwarm')"
   ]
  },
  {
   "cell_type": "code",
   "execution_count": 63,
   "id": "a6f06ea6",
   "metadata": {},
   "outputs": [],
   "source": [
    "#separacion de datos\n",
    "\n",
    "\n",
    "X = df.drop(columns='class')\n",
    "y = df['class']\n",
    "X_train, X_test, y_train, y_test = train_test_split(X, y, test_size=0.25, random_state=42, stratify=y)"
   ]
  },
  {
   "cell_type": "code",
   "execution_count": 64,
   "id": "d9d19664",
   "metadata": {},
   "outputs": [],
   "source": [
    "X_scaled = StandardScaler().fit_transform(X_train)\n",
    "pca = PCA()\n",
    "pca.fit(X_scaled)\n",
    "explained_variance = np.cumsum(pca.explained_variance_ratio_)\n",
    "\n"
   ]
  },
  {
   "cell_type": "code",
   "execution_count": 65,
   "id": "a6a8c2d0",
   "metadata": {},
   "outputs": [
    {
     "data": {
      "image/png": "[encoded data removed]",
      "text/plain": [
       "<Figure size 800x500 with 1 Axes>"
      ]
     },
     "metadata": {},
     "output_type": "display_data"
    }
   ],
   "source": [
    "#---comento esta linea porque en la steam deck no se me renderiza el grafico\n",
    "plt.figure(figsize=(8,5))\n",
    "plt.plot(range(1, len(explained_variance)+1), explained_variance, marker='o')\n",
    "plt.xlabel('Número de Componentes Principales')\n",
    "plt.ylabel('Varianza Explicada Acumulada')\n",
    "plt.title('Método del Codo (Elbow Method) - PCA')\n",
    "plt.grid(True)\n",
    "plt.show()"
   ]
  },
  {
   "cell_type": "code",
   "execution_count": 66,
   "id": "7961a1b6",
   "metadata": {},
   "outputs": [
    {
     "name": "stdout",
     "output_type": "stream",
     "text": [
      " Acc=0.948  F1=0.948\n"
     ]
    }
   ],
   "source": [
    "# definicion del primer pipeline no se si esta bien con el concepto de baseline \n",
    "pipeline_log = Pipeline([\n",
    "    ('scaler',StandardScaler()),\n",
    "    #('pca',PCA(n_components=0.95)),\n",
    "    ('rlg',LogisticRegression(class_weight='balanced',max_iter=160))\n",
    "])\n",
    "pipeline_log.fit(X_train, y_train)\n",
    "\n",
    "y_pred = pipeline_log.predict(X_test)\n",
    "print(f\" Acc={accuracy_score(y_test, y_pred):.3f}  F1={f1_score(y_test, y_pred,average='weighted'):.3f}\")"
   ]
  },
  {
   "cell_type": "code",
   "execution_count": 68,
   "id": "b4d12f33",
   "metadata": {},
   "outputs": [
    {
     "name": "stdout",
     "output_type": "stream",
     "text": [
      "Fitting 5 folds for each of 10 candidates, totalling 50 fits\n"
     ]
    },
    {
     "name": "stderr",
     "output_type": "stream",
     "text": [
      "/Users/valentinasandovalcontreras/Documents/K_Means_ML/venv/lib/python3.14/site-packages/sklearn/linear_model/_logistic.py:1296: FutureWarning: Using the 'liblinear' solver for multiclass classification is deprecated. An error will be raised in 1.8. Either use another solver which supports the multinomial loss or wrap the estimator in a OneVsRestClassifier to keep applying a one-versus-rest scheme.\n",
      "  warnings.warn(\n",
      "/Users/valentinasandovalcontreras/Documents/K_Means_ML/venv/lib/python3.14/site-packages/sklearn/linear_model/_logistic.py:1296: FutureWarning: Using the 'liblinear' solver for multiclass classification is deprecated. An error will be raised in 1.8. Either use another solver which supports the multinomial loss or wrap the estimator in a OneVsRestClassifier to keep applying a one-versus-rest scheme.\n",
      "  warnings.warn(\n",
      "/Users/valentinasandovalcontreras/Documents/K_Means_ML/venv/lib/python3.14/site-packages/sklearn/linear_model/_logistic.py:1296: FutureWarning: Using the 'liblinear' solver for multiclass classification is deprecated. An error will be raised in 1.8. Either use another solver which supports the multinomial loss or wrap the estimator in a OneVsRestClassifier to keep applying a one-versus-rest scheme.\n",
      "  warnings.warn(\n",
      "/Users/valentinasandovalcontreras/Documents/K_Means_ML/venv/lib/python3.14/site-packages/sklearn/linear_model/_logistic.py:1296: FutureWarning: Using the 'liblinear' solver for multiclass classification is deprecated. An error will be raised in 1.8. Either use another solver which supports the multinomial loss or wrap the estimator in a OneVsRestClassifier to keep applying a one-versus-rest scheme.\n",
      "  warnings.warn(\n",
      "/Users/valentinasandovalcontreras/Documents/K_Means_ML/venv/lib/python3.14/site-packages/sklearn/linear_model/_logistic.py:1296: FutureWarning: Using the 'liblinear' solver for multiclass classification is deprecated. An error will be raised in 1.8. Either use another solver which supports the multinomial loss or wrap the estimator in a OneVsRestClassifier to keep applying a one-versus-rest scheme.\n",
      "  warnings.warn(\n",
      "/Users/valentinasandovalcontreras/Documents/K_Means_ML/venv/lib/python3.14/site-packages/sklearn/linear_model/_logistic.py:1296: FutureWarning: Using the 'liblinear' solver for multiclass classification is deprecated. An error will be raised in 1.8. Either use another solver which supports the multinomial loss or wrap the estimator in a OneVsRestClassifier to keep applying a one-versus-rest scheme.\n",
      "  warnings.warn(\n",
      "/Users/valentinasandovalcontreras/Documents/K_Means_ML/venv/lib/python3.14/site-packages/sklearn/linear_model/_logistic.py:1296: FutureWarning: Using the 'liblinear' solver for multiclass classification is deprecated. An error will be raised in 1.8. Either use another solver which supports the multinomial loss or wrap the estimator in a OneVsRestClassifier to keep applying a one-versus-rest scheme.\n",
      "  warnings.warn(\n",
      "/Users/valentinasandovalcontreras/Documents/K_Means_ML/venv/lib/python3.14/site-packages/sklearn/linear_model/_logistic.py:1296: FutureWarning: Using the 'liblinear' solver for multiclass classification is deprecated. An error will be raised in 1.8. Either use another solver which supports the multinomial loss or wrap the estimator in a OneVsRestClassifier to keep applying a one-versus-rest scheme.\n",
      "  warnings.warn(\n",
      "/Users/valentinasandovalcontreras/Documents/K_Means_ML/venv/lib/python3.14/site-packages/sklearn/linear_model/_logistic.py:1296: FutureWarning: Using the 'liblinear' solver for multiclass classification is deprecated. An error will be raised in 1.8. Either use another solver which supports the multinomial loss or wrap the estimator in a OneVsRestClassifier to keep applying a one-versus-rest scheme.\n",
      "  warnings.warn(\n",
      "/Users/valentinasandovalcontreras/Documents/K_Means_ML/venv/lib/python3.14/site-packages/sklearn/linear_model/_logistic.py:1296: FutureWarning: Using the 'liblinear' solver for multiclass classification is deprecated. An error will be raised in 1.8. Either use another solver which supports the multinomial loss or wrap the estimator in a OneVsRestClassifier to keep applying a one-versus-rest scheme.\n",
      "  warnings.warn(\n",
      "/Users/valentinasandovalcontreras/Documents/K_Means_ML/venv/lib/python3.14/site-packages/sklearn/linear_model/_logistic.py:1296: FutureWarning: Using the 'liblinear' solver for multiclass classification is deprecated. An error will be raised in 1.8. Either use another solver which supports the multinomial loss or wrap the estimator in a OneVsRestClassifier to keep applying a one-versus-rest scheme.\n",
      "  warnings.warn(\n",
      "/Users/valentinasandovalcontreras/Documents/K_Means_ML/venv/lib/python3.14/site-packages/sklearn/linear_model/_logistic.py:1296: FutureWarning: Using the 'liblinear' solver for multiclass classification is deprecated. An error will be raised in 1.8. Either use another solver which supports the multinomial loss or wrap the estimator in a OneVsRestClassifier to keep applying a one-versus-rest scheme.\n",
      "  warnings.warn(\n",
      "/Users/valentinasandovalcontreras/Documents/K_Means_ML/venv/lib/python3.14/site-packages/sklearn/linear_model/_logistic.py:1296: FutureWarning: Using the 'liblinear' solver for multiclass classification is deprecated. An error will be raised in 1.8. Either use another solver which supports the multinomial loss or wrap the estimator in a OneVsRestClassifier to keep applying a one-versus-rest scheme.\n",
      "  warnings.warn(\n",
      "/Users/valentinasandovalcontreras/Documents/K_Means_ML/venv/lib/python3.14/site-packages/sklearn/linear_model/_logistic.py:1296: FutureWarning: Using the 'liblinear' solver for multiclass classification is deprecated. An error will be raised in 1.8. Either use another solver which supports the multinomial loss or wrap the estimator in a OneVsRestClassifier to keep applying a one-versus-rest scheme.\n",
      "  warnings.warn(\n",
      "/Users/valentinasandovalcontreras/Documents/K_Means_ML/venv/lib/python3.14/site-packages/sklearn/linear_model/_logistic.py:1296: FutureWarning: Using the 'liblinear' solver for multiclass classification is deprecated. An error will be raised in 1.8. Either use another solver which supports the multinomial loss or wrap the estimator in a OneVsRestClassifier to keep applying a one-versus-rest scheme.\n",
      "  warnings.warn(\n",
      "/Users/valentinasandovalcontreras/Documents/K_Means_ML/venv/lib/python3.14/site-packages/sklearn/linear_model/_sag.py:348: ConvergenceWarning: The max_iter was reached which means the coef_ did not converge\n",
      "  warnings.warn(\n",
      "/Users/valentinasandovalcontreras/Documents/K_Means_ML/venv/lib/python3.14/site-packages/sklearn/linear_model/_sag.py:348: ConvergenceWarning: The max_iter was reached which means the coef_ did not converge\n",
      "  warnings.warn(\n",
      "/Users/valentinasandovalcontreras/Documents/K_Means_ML/venv/lib/python3.14/site-packages/sklearn/linear_model/_sag.py:348: ConvergenceWarning: The max_iter was reached which means the coef_ did not converge\n",
      "  warnings.warn(\n",
      "/Users/valentinasandovalcontreras/Documents/K_Means_ML/venv/lib/python3.14/site-packages/sklearn/linear_model/_sag.py:348: ConvergenceWarning: The max_iter was reached which means the coef_ did not converge\n",
      "  warnings.warn(\n",
      "/Users/valentinasandovalcontreras/Documents/K_Means_ML/venv/lib/python3.14/site-packages/sklearn/linear_model/_sag.py:348: ConvergenceWarning: The max_iter was reached which means the coef_ did not converge\n",
      "  warnings.warn(\n",
      "/Users/valentinasandovalcontreras/Documents/K_Means_ML/venv/lib/python3.14/site-packages/sklearn/model_selection/_validation.py:516: FitFailedWarning: \n",
      "25 fits failed out of a total of 50.\n",
      "The score on these train-test partitions for these parameters will be set to nan.\n",
      "If these failures are not expected, you can try to debug them by setting error_score='raise'.\n",
      "\n",
      "Below are more details about the failures:\n",
      "--------------------------------------------------------------------------------\n",
      "15 fits failed with the following error:\n",
      "Traceback (most recent call last):\n",
      "  File \"/Users/valentinasandovalcontreras/Documents/K_Means_ML/venv/lib/python3.14/site-packages/sklearn/model_selection/_validation.py\", line 859, in _fit_and_score\n",
      "    estimator.fit(X_train, y_train, **fit_params)\n",
      "    ~~~~~~~~~~~~~^^^^^^^^^^^^^^^^^^^^^^^^^^^^^^^^\n",
      "  File \"/Users/valentinasandovalcontreras/Documents/K_Means_ML/venv/lib/python3.14/site-packages/sklearn/base.py\", line 1365, in wrapper\n",
      "    return fit_method(estimator, *args, **kwargs)\n",
      "  File \"/Users/valentinasandovalcontreras/Documents/K_Means_ML/venv/lib/python3.14/site-packages/sklearn/pipeline.py\", line 663, in fit\n",
      "    self._final_estimator.fit(Xt, y, **last_step_params[\"fit\"])\n",
      "    ~~~~~~~~~~~~~~~~~~~~~~~~~^^^^^^^^^^^^^^^^^^^^^^^^^^^^^^^^^^\n",
      "  File \"/Users/valentinasandovalcontreras/Documents/K_Means_ML/venv/lib/python3.14/site-packages/sklearn/base.py\", line 1365, in wrapper\n",
      "    return fit_method(estimator, *args, **kwargs)\n",
      "  File \"/Users/valentinasandovalcontreras/Documents/K_Means_ML/venv/lib/python3.14/site-packages/sklearn/linear_model/_logistic.py\", line 1218, in fit\n",
      "    solver = _check_solver(self.solver, self.penalty, self.dual)\n",
      "  File \"/Users/valentinasandovalcontreras/Documents/K_Means_ML/venv/lib/python3.14/site-packages/sklearn/linear_model/_logistic.py\", line 72, in _check_solver\n",
      "    raise ValueError(\n",
      "        f\"Only 'saga' solver supports elasticnet penalty, got solver={solver}.\"\n",
      "    )\n",
      "ValueError: Only 'saga' solver supports elasticnet penalty, got solver=liblinear.\n",
      "\n",
      "--------------------------------------------------------------------------------\n",
      "5 fits failed with the following error:\n",
      "Traceback (most recent call last):\n",
      "  File \"/Users/valentinasandovalcontreras/Documents/K_Means_ML/venv/lib/python3.14/site-packages/sklearn/model_selection/_validation.py\", line 859, in _fit_and_score\n",
      "    estimator.fit(X_train, y_train, **fit_params)\n",
      "    ~~~~~~~~~~~~~^^^^^^^^^^^^^^^^^^^^^^^^^^^^^^^^\n",
      "  File \"/Users/valentinasandovalcontreras/Documents/K_Means_ML/venv/lib/python3.14/site-packages/sklearn/base.py\", line 1365, in wrapper\n",
      "    return fit_method(estimator, *args, **kwargs)\n",
      "  File \"/Users/valentinasandovalcontreras/Documents/K_Means_ML/venv/lib/python3.14/site-packages/sklearn/pipeline.py\", line 663, in fit\n",
      "    self._final_estimator.fit(Xt, y, **last_step_params[\"fit\"])\n",
      "    ~~~~~~~~~~~~~~~~~~~~~~~~~^^^^^^^^^^^^^^^^^^^^^^^^^^^^^^^^^^\n",
      "  File \"/Users/valentinasandovalcontreras/Documents/K_Means_ML/venv/lib/python3.14/site-packages/sklearn/base.py\", line 1365, in wrapper\n",
      "    return fit_method(estimator, *args, **kwargs)\n",
      "  File \"/Users/valentinasandovalcontreras/Documents/K_Means_ML/venv/lib/python3.14/site-packages/sklearn/linear_model/_logistic.py\", line 1218, in fit\n",
      "    solver = _check_solver(self.solver, self.penalty, self.dual)\n",
      "  File \"/Users/valentinasandovalcontreras/Documents/K_Means_ML/venv/lib/python3.14/site-packages/sklearn/linear_model/_logistic.py\", line 64, in _check_solver\n",
      "    raise ValueError(\n",
      "    ...<2 lines>...\n",
      "    )\n",
      "ValueError: Solver lbfgs supports only 'l2' or None penalties, got l1 penalty.\n",
      "\n",
      "--------------------------------------------------------------------------------\n",
      "5 fits failed with the following error:\n",
      "Traceback (most recent call last):\n",
      "  File \"/Users/valentinasandovalcontreras/Documents/K_Means_ML/venv/lib/python3.14/site-packages/sklearn/model_selection/_validation.py\", line 859, in _fit_and_score\n",
      "    estimator.fit(X_train, y_train, **fit_params)\n",
      "    ~~~~~~~~~~~~~^^^^^^^^^^^^^^^^^^^^^^^^^^^^^^^^\n",
      "  File \"/Users/valentinasandovalcontreras/Documents/K_Means_ML/venv/lib/python3.14/site-packages/sklearn/base.py\", line 1365, in wrapper\n",
      "    return fit_method(estimator, *args, **kwargs)\n",
      "  File \"/Users/valentinasandovalcontreras/Documents/K_Means_ML/venv/lib/python3.14/site-packages/sklearn/pipeline.py\", line 663, in fit\n",
      "    self._final_estimator.fit(Xt, y, **last_step_params[\"fit\"])\n",
      "    ~~~~~~~~~~~~~~~~~~~~~~~~~^^^^^^^^^^^^^^^^^^^^^^^^^^^^^^^^^^\n",
      "  File \"/Users/valentinasandovalcontreras/Documents/K_Means_ML/venv/lib/python3.14/site-packages/sklearn/base.py\", line 1365, in wrapper\n",
      "    return fit_method(estimator, *args, **kwargs)\n",
      "  File \"/Users/valentinasandovalcontreras/Documents/K_Means_ML/venv/lib/python3.14/site-packages/sklearn/linear_model/_logistic.py\", line 1218, in fit\n",
      "    solver = _check_solver(self.solver, self.penalty, self.dual)\n",
      "  File \"/Users/valentinasandovalcontreras/Documents/K_Means_ML/venv/lib/python3.14/site-packages/sklearn/linear_model/_logistic.py\", line 64, in _check_solver\n",
      "    raise ValueError(\n",
      "    ...<2 lines>...\n",
      "    )\n",
      "ValueError: Solver lbfgs supports only 'l2' or None penalties, got elasticnet penalty.\n",
      "\n",
      "  warnings.warn(some_fits_failed_message, FitFailedWarning)\n",
      "/Users/valentinasandovalcontreras/Documents/K_Means_ML/venv/lib/python3.14/site-packages/sklearn/model_selection/_search.py:1135: UserWarning: One or more of the test scores are non-finite: [0.94892878        nan 0.93351996        nan        nan 0.93351996\n",
      " 0.95197019        nan        nan 0.94425905]\n",
      "  warnings.warn(\n"
     ]
    },
    {
     "name": "stdout",
     "output_type": "stream",
     "text": [
      "rlg mejor AUC (CV): 0.952\n",
      "rlg mejor parametros: {'rlg__solver': 'saga', 'rlg__penalty': 'l1', 'rlg__max_iter': 150, 'rlg__C': 100}\n"
     ]
    },
    {
     "name": "stderr",
     "output_type": "stream",
     "text": [
      "/Users/valentinasandovalcontreras/Documents/K_Means_ML/venv/lib/python3.14/site-packages/sklearn/linear_model/_sag.py:348: ConvergenceWarning: The max_iter was reached which means the coef_ did not converge\n",
      "  warnings.warn(\n"
     ]
    }
   ],
   "source": [
    "param_distributions = {\n",
    "    'rlg__C':[0.001, 0.01, 0.1, 1, 10, 100], \n",
    "    'rlg__penalty': ['l1', 'l2', 'elasticnet'], \n",
    "    'rlg__solver': ['liblinear', 'lbfgs', 'saga'],  \n",
    "    'rlg__max_iter': [150, 160,180,200],  \n",
    "\n",
    "}\n",
    "random_search = RandomizedSearchCV(\n",
    "    estimator=pipeline_log,\n",
    "    param_distributions=param_distributions,\n",
    "    n_iter=10,  \n",
    "    scoring='accuracy',\n",
    "    cv=5,  \n",
    "    verbose=1, \n",
    "    random_state=42,\n",
    "    n_jobs=-1  \n",
    ")\n",
    "random_search.fit(X_train, y_train)\n",
    "print('rlg mejor AUC (CV):', random_search.best_score_.round(4))\n",
    "print('rlg mejor parametros:', random_search.best_params_)\n"
   ]
  },
  {
   "cell_type": "code",
   "execution_count": null,
   "id": "83afc50b",
   "metadata": {},
   "outputs": [
    {
     "name": "stdout",
     "output_type": "stream",
     "text": [
      "Fitting 5 folds for each of 9 candidates, totalling 45 fits\n"
     ]
    },
    {
     "name": "stderr",
     "output_type": "stream",
     "text": [
      "/Users/valentinasandovalcontreras/Documents/K_Means_ML/venv/lib/python3.14/site-packages/sklearn/linear_model/_sag.py:348: ConvergenceWarning: The max_iter was reached which means the coef_ did not converge\n",
      "  warnings.warn(\n",
      "/Users/valentinasandovalcontreras/Documents/K_Means_ML/venv/lib/python3.14/site-packages/sklearn/linear_model/_sag.py:348: ConvergenceWarning: The max_iter was reached which means the coef_ did not converge\n",
      "  warnings.warn(\n",
      "/Users/valentinasandovalcontreras/Documents/K_Means_ML/venv/lib/python3.14/site-packages/sklearn/linear_model/_sag.py:348: ConvergenceWarning: The max_iter was reached which means the coef_ did not converge\n",
      "  warnings.warn(\n",
      "/Users/valentinasandovalcontreras/Documents/K_Means_ML/venv/lib/python3.14/site-packages/sklearn/linear_model/_sag.py:348: ConvergenceWarning: The max_iter was reached which means the coef_ did not converge\n",
      "  warnings.warn(\n",
      "/Users/valentinasandovalcontreras/Documents/K_Means_ML/venv/lib/python3.14/site-packages/sklearn/linear_model/_sag.py:348: ConvergenceWarning: The max_iter was reached which means the coef_ did not converge\n",
      "  warnings.warn(\n",
      "/Users/valentinasandovalcontreras/Documents/K_Means_ML/venv/lib/python3.14/site-packages/sklearn/linear_model/_sag.py:348: ConvergenceWarning: The max_iter was reached which means the coef_ did not converge\n",
      "  warnings.warn(\n",
      "/Users/valentinasandovalcontreras/Documents/K_Means_ML/venv/lib/python3.14/site-packages/sklearn/linear_model/_sag.py:348: ConvergenceWarning: The max_iter was reached which means the coef_ did not converge\n",
      "  warnings.warn(\n",
      "/Users/valentinasandovalcontreras/Documents/K_Means_ML/venv/lib/python3.14/site-packages/sklearn/linear_model/_sag.py:348: ConvergenceWarning: The max_iter was reached which means the coef_ did not converge\n",
      "  warnings.warn(\n",
      "/Users/valentinasandovalcontreras/Documents/K_Means_ML/venv/lib/python3.14/site-packages/sklearn/linear_model/_sag.py:348: ConvergenceWarning: The max_iter was reached which means the coef_ did not converge\n",
      "  warnings.warn(\n",
      "/Users/valentinasandovalcontreras/Documents/K_Means_ML/venv/lib/python3.14/site-packages/sklearn/linear_model/_sag.py:348: ConvergenceWarning: The max_iter was reached which means the coef_ did not converge\n",
      "  warnings.warn(\n",
      "/Users/valentinasandovalcontreras/Documents/K_Means_ML/venv/lib/python3.14/site-packages/sklearn/linear_model/_sag.py:348: ConvergenceWarning: The max_iter was reached which means the coef_ did not converge\n",
      "  warnings.warn(\n",
      "/Users/valentinasandovalcontreras/Documents/K_Means_ML/venv/lib/python3.14/site-packages/sklearn/linear_model/_sag.py:348: ConvergenceWarning: The max_iter was reached which means the coef_ did not converge\n",
      "  warnings.warn(\n",
      "/Users/valentinasandovalcontreras/Documents/K_Means_ML/venv/lib/python3.14/site-packages/sklearn/linear_model/_sag.py:348: ConvergenceWarning: The max_iter was reached which means the coef_ did not converge\n",
      "  warnings.warn(\n",
      "/Users/valentinasandovalcontreras/Documents/K_Means_ML/venv/lib/python3.14/site-packages/sklearn/linear_model/_sag.py:348: ConvergenceWarning: The max_iter was reached which means the coef_ did not converge\n",
      "  warnings.warn(\n",
      "/Users/valentinasandovalcontreras/Documents/K_Means_ML/venv/lib/python3.14/site-packages/sklearn/linear_model/_sag.py:348: ConvergenceWarning: The max_iter was reached which means the coef_ did not converge\n",
      "  warnings.warn(\n",
      "/Users/valentinasandovalcontreras/Documents/K_Means_ML/venv/lib/python3.14/site-packages/sklearn/linear_model/_sag.py:348: ConvergenceWarning: The max_iter was reached which means the coef_ did not converge\n",
      "  warnings.warn(\n",
      "/Users/valentinasandovalcontreras/Documents/K_Means_ML/venv/lib/python3.14/site-packages/sklearn/linear_model/_sag.py:348: ConvergenceWarning: The max_iter was reached which means the coef_ did not converge\n",
      "  warnings.warn(\n",
      "/Users/valentinasandovalcontreras/Documents/K_Means_ML/venv/lib/python3.14/site-packages/sklearn/linear_model/_sag.py:348: ConvergenceWarning: The max_iter was reached which means the coef_ did not converge\n",
      "  warnings.warn(\n",
      "/Users/valentinasandovalcontreras/Documents/K_Means_ML/venv/lib/python3.14/site-packages/sklearn/linear_model/_sag.py:348: ConvergenceWarning: The max_iter was reached which means the coef_ did not converge\n",
      "  warnings.warn(\n",
      "/Users/valentinasandovalcontreras/Documents/K_Means_ML/venv/lib/python3.14/site-packages/sklearn/linear_model/_sag.py:348: ConvergenceWarning: The max_iter was reached which means the coef_ did not converge\n",
      "  warnings.warn(\n",
      "/Users/valentinasandovalcontreras/Documents/K_Means_ML/venv/lib/python3.14/site-packages/sklearn/linear_model/_sag.py:348: ConvergenceWarning: The max_iter was reached which means the coef_ did not converge\n",
      "  warnings.warn(\n",
      "/Users/valentinasandovalcontreras/Documents/K_Means_ML/venv/lib/python3.14/site-packages/sklearn/linear_model/_sag.py:348: ConvergenceWarning: The max_iter was reached which means the coef_ did not converge\n",
      "  warnings.warn(\n",
      "/Users/valentinasandovalcontreras/Documents/K_Means_ML/venv/lib/python3.14/site-packages/sklearn/linear_model/_sag.py:348: ConvergenceWarning: The max_iter was reached which means the coef_ did not converge\n",
      "  warnings.warn(\n",
      "/Users/valentinasandovalcontreras/Documents/K_Means_ML/venv/lib/python3.14/site-packages/sklearn/linear_model/_sag.py:348: ConvergenceWarning: The max_iter was reached which means the coef_ did not converge\n",
      "  warnings.warn(\n",
      "/Users/valentinasandovalcontreras/Documents/K_Means_ML/venv/lib/python3.14/site-packages/sklearn/linear_model/_sag.py:348: ConvergenceWarning: The max_iter was reached which means the coef_ did not converge\n",
      "  warnings.warn(\n",
      "/Users/valentinasandovalcontreras/Documents/K_Means_ML/venv/lib/python3.14/site-packages/sklearn/linear_model/_sag.py:348: ConvergenceWarning: The max_iter was reached which means the coef_ did not converge\n",
      "  warnings.warn(\n",
      "/Users/valentinasandovalcontreras/Documents/K_Means_ML/venv/lib/python3.14/site-packages/sklearn/linear_model/_sag.py:348: ConvergenceWarning: The max_iter was reached which means the coef_ did not converge\n",
      "  warnings.warn(\n",
      "/Users/valentinasandovalcontreras/Documents/K_Means_ML/venv/lib/python3.14/site-packages/sklearn/linear_model/_sag.py:348: ConvergenceWarning: The max_iter was reached which means the coef_ did not converge\n",
      "  warnings.warn(\n",
      "/Users/valentinasandovalcontreras/Documents/K_Means_ML/venv/lib/python3.14/site-packages/sklearn/linear_model/_sag.py:348: ConvergenceWarning: The max_iter was reached which means the coef_ did not converge\n",
      "  warnings.warn(\n",
      "/Users/valentinasandovalcontreras/Documents/K_Means_ML/venv/lib/python3.14/site-packages/sklearn/linear_model/_sag.py:348: ConvergenceWarning: The max_iter was reached which means the coef_ did not converge\n",
      "  warnings.warn(\n",
      "/Users/valentinasandovalcontreras/Documents/K_Means_ML/venv/lib/python3.14/site-packages/sklearn/linear_model/_sag.py:348: ConvergenceWarning: The max_iter was reached which means the coef_ did not converge\n",
      "  warnings.warn(\n",
      "/Users/valentinasandovalcontreras/Documents/K_Means_ML/venv/lib/python3.14/site-packages/sklearn/linear_model/_sag.py:348: ConvergenceWarning: The max_iter was reached which means the coef_ did not converge\n",
      "  warnings.warn(\n",
      "/Users/valentinasandovalcontreras/Documents/K_Means_ML/venv/lib/python3.14/site-packages/sklearn/linear_model/_sag.py:348: ConvergenceWarning: The max_iter was reached which means the coef_ did not converge\n",
      "  warnings.warn(\n",
      "/Users/valentinasandovalcontreras/Documents/K_Means_ML/venv/lib/python3.14/site-packages/sklearn/linear_model/_sag.py:348: ConvergenceWarning: The max_iter was reached which means the coef_ did not converge\n",
      "  warnings.warn(\n",
      "/Users/valentinasandovalcontreras/Documents/K_Means_ML/venv/lib/python3.14/site-packages/sklearn/linear_model/_sag.py:348: ConvergenceWarning: The max_iter was reached which means the coef_ did not converge\n",
      "  warnings.warn(\n",
      "/Users/valentinasandovalcontreras/Documents/K_Means_ML/venv/lib/python3.14/site-packages/sklearn/linear_model/_sag.py:348: ConvergenceWarning: The max_iter was reached which means the coef_ did not converge\n",
      "  warnings.warn(\n",
      "/Users/valentinasandovalcontreras/Documents/K_Means_ML/venv/lib/python3.14/site-packages/sklearn/linear_model/_sag.py:348: ConvergenceWarning: The max_iter was reached which means the coef_ did not converge\n",
      "  warnings.warn(\n",
      "/Users/valentinasandovalcontreras/Documents/K_Means_ML/venv/lib/python3.14/site-packages/sklearn/linear_model/_sag.py:348: ConvergenceWarning: The max_iter was reached which means the coef_ did not converge\n",
      "  warnings.warn(\n",
      "/Users/valentinasandovalcontreras/Documents/K_Means_ML/venv/lib/python3.14/site-packages/sklearn/linear_model/_sag.py:348: ConvergenceWarning: The max_iter was reached which means the coef_ did not converge\n",
      "  warnings.warn(\n",
      "/Users/valentinasandovalcontreras/Documents/K_Means_ML/venv/lib/python3.14/site-packages/sklearn/linear_model/_sag.py:348: ConvergenceWarning: The max_iter was reached which means the coef_ did not converge\n",
      "  warnings.warn(\n",
      "/Users/valentinasandovalcontreras/Documents/K_Means_ML/venv/lib/python3.14/site-packages/sklearn/linear_model/_sag.py:348: ConvergenceWarning: The max_iter was reached which means the coef_ did not converge\n",
      "  warnings.warn(\n",
      "/Users/valentinasandovalcontreras/Documents/K_Means_ML/venv/lib/python3.14/site-packages/sklearn/linear_model/_sag.py:348: ConvergenceWarning: The max_iter was reached which means the coef_ did not converge\n",
      "  warnings.warn(\n",
      "/Users/valentinasandovalcontreras/Documents/K_Means_ML/venv/lib/python3.14/site-packages/sklearn/linear_model/_sag.py:348: ConvergenceWarning: The max_iter was reached which means the coef_ did not converge\n",
      "  warnings.warn(\n",
      "/Users/valentinasandovalcontreras/Documents/K_Means_ML/venv/lib/python3.14/site-packages/sklearn/linear_model/_sag.py:348: ConvergenceWarning: The max_iter was reached which means the coef_ did not converge\n",
      "  warnings.warn(\n",
      "/Users/valentinasandovalcontreras/Documents/K_Means_ML/venv/lib/python3.14/site-packages/sklearn/linear_model/_sag.py:348: ConvergenceWarning: The max_iter was reached which means the coef_ did not converge\n",
      "  warnings.warn(\n"
     ]
    },
    {
     "name": "stdout",
     "output_type": "stream",
     "text": [
      "Mejor score (GridSearchCV): 0.9615\n",
      "Mejores parámetros finos: {'rlg__C': 100, 'rlg__max_iter': 170, 'rlg__penalty': 'l1', 'rlg__solver': 'saga'}\n"
     ]
    },
    {
     "name": "stderr",
     "output_type": "stream",
     "text": [
      "/Users/valentinasandovalcontreras/Documents/K_Means_ML/venv/lib/python3.14/site-packages/sklearn/linear_model/_sag.py:348: ConvergenceWarning: The max_iter was reached which means the coef_ did not converge\n",
      "  warnings.warn(\n"
     ]
    }
   ],
   "source": [
    "best_params_rlg = random_search.best_params_\n",
    "\n",
    "\n",
    "param_grid_fino = {\n",
    "    'rlg__C': [best_params_rlg['rlg__C'] / 10, best_params_rlg['rlg__C'], best_params_rlg['rlg__C'] * 10],\n",
    "    'rlg__penalty': [best_params_rlg['rlg__penalty']],\n",
    "    'rlg__solver': [best_params_rlg['rlg__solver']],\n",
    "    'rlg__max_iter': [best_params_rlg['rlg__max_iter'] - 20,\n",
    "                      best_params_rlg['rlg__max_iter'],\n",
    "                      best_params_rlg['rlg__max_iter'] + 20]\n",
    "}\n",
    "\n",
    "\n",
    "grid_search = GridSearchCV(\n",
    "    estimator=pipeline_log,\n",
    "    param_grid=param_grid_fino,\n",
    "    cv=5,\n",
    "    scoring='accuracy',\n",
    "    n_jobs=-1,\n",
    "    verbose=1\n",
    ")\n",
    "\n",
    "grid_search.fit(X_train, y_train)\n",
    "\n",
    "print('Mejor score (GridSearchCV):', grid_search.best_score_.round(4))\n",
    "print('Mejores parámetros finos:', grid_search.best_params_)\n",
    "best_params_rlg =  grid_search.best_params_"
   ]
  },
  {
   "cell_type": "code",
   "execution_count": null,
   "id": "d4738102",
   "metadata": {},
   "outputs": [],
   "source": []
  },
  {
   "cell_type": "code",
   "execution_count": null,
   "id": "c7bfc67f",
   "metadata": {},
   "outputs": [
    {
     "data": {
      "text/plain": [
       "'\\nZ_train = pipeline_log.named_steps[\\'pca\\'].transform(\\n        pipeline_log.named_steps[\\'scaler\\'].transform(X_train)\\n)\\n\\nplt.figure(figsize=(6,6))\\nclass_colors = {\\'GALAXY\\': 0, \\'STAR\\': 1, \\'QSO\\': 2} \\ny_encoded = y_train.map(class_colors)\\n\\nplt.figure(figsize=(12, 8))\\nscatter = plt.scatter(Z_train[:, 0], Z_train[:, 1], \\n                    c=y_encoded, cmap=\\'viridis\\', \\n                    s=20, alpha=0.6, edgecolor=\\'k\\', linewidth=0.5)\\n\\nplt.xlabel(\"PC1\")\\nplt.ylabel(\"PC2\")\\nplt.xlabel(f\\'PC1 ({pipeline_log.named_steps[\"pca\"].explained_variance_ratio_[0]*100:.1f}%)\\')\\nplt.ylabel(f\\'PC2 ({pipeline_log.named_steps[\"pca\"].explained_variance_ratio_[1]*100:.1f}%)\\')\\nplt.title(\\'PCA - Clasificación de Objetos Astronómicos\\')\\nhandles = [plt.Line2D([0], [0], marker=\\'o\\', color=\\'w\\', \\n                     markerfacecolor=plt.cm.viridis(class_colors[c]/2), \\n                     markersize=10, label=c) \\n          for c in class_colors.keys()]\\nplt.legend(handles=handles, title=\\'Clase\\')\\nplt.grid(True)\\nplt.show()\\n'"
      ]
     },
     "execution_count": 51,
     "metadata": {},
     "output_type": "execute_result"
    }
   ],
   "source": [
    "# grafico pca\n",
    "#---comento esta linea porque en la steam deck no se me renderiza el grafico\n",
    "'''\n",
    "Z_train = pipeline_log.named_steps['pca'].transform(\n",
    "        pipeline_log.named_steps['scaler'].transform(X_train)\n",
    ")\n",
    "\n",
    "plt.figure(figsize=(6,6))\n",
    "class_colors = {'GALAXY': 0, 'STAR': 1, 'QSO': 2} \n",
    "y_encoded = y_train.map(class_colors)\n",
    "\n",
    "plt.figure(figsize=(12, 8))\n",
    "scatter = plt.scatter(Z_train[:, 0], Z_train[:, 1], \n",
    "                    c=y_encoded, cmap='viridis', \n",
    "                    s=20, alpha=0.6, edgecolor='k', linewidth=0.5)\n",
    "\n",
    "plt.xlabel(\"PC1\")\n",
    "plt.ylabel(\"PC2\")\n",
    "plt.xlabel(f'PC1 ({pipeline_log.named_steps[\"pca\"].explained_variance_ratio_[0]*100:.1f}%)')\n",
    "plt.ylabel(f'PC2 ({pipeline_log.named_steps[\"pca\"].explained_variance_ratio_[1]*100:.1f}%)')\n",
    "plt.title('PCA - Clasificación de Objetos Astronómicos')\n",
    "handles = [plt.Line2D([0], [0], marker='o', color='w', \n",
    "                     markerfacecolor=plt.cm.viridis(class_colors[c]/2), \n",
    "                     markersize=10, label=c) \n",
    "          for c in class_colors.keys()]\n",
    "plt.legend(handles=handles, title='Clase')\n",
    "plt.grid(True)\n",
    "plt.show()\n",
    "'''"
   ]
  },
  {
   "cell_type": "code",
   "execution_count": 70,
   "id": "b44cc758",
   "metadata": {},
   "outputs": [
    {
     "name": "stdout",
     "output_type": "stream",
     "text": [
      " Acc=0.979  F1=0.979\n"
     ]
    }
   ],
   "source": [
    "pipeline_rf = Pipeline([\n",
    "    ('scaler',StandardScaler()),\n",
    "   # ('pca',PCA(n_components=9)),\n",
    "    ('rf',RandomForestClassifier(class_weight='balanced',random_state=42))\n",
    "])\n",
    "\n",
    "pipeline_rf.fit(X_train,y_train)\n",
    "y_pred = pipeline_rf.predict(X_test)\n",
    "print(f\" Acc={accuracy_score(y_test, y_pred):.3f}  F1={f1_score(y_test, y_pred,average='weighted'):.3f}\")\n",
    "\n"
   ]
  },
  {
   "cell_type": "markdown",
   "id": "1335df1c",
   "metadata": {},
   "source": [
    "#Observando el como se comportaron los datos al aplicar reduccion de dimensionalidad, encuentro que lo mejor es no utilizar pca ya que este hace que se pierda informacion"
   ]
  },
  {
   "cell_type": "code",
   "execution_count": null,
   "id": "c25ff93c",
   "metadata": {},
   "outputs": [
    {
     "name": "stdout",
     "output_type": "stream",
     "text": [
      "Fitting 5 folds for each of 20 candidates, totalling 100 fits\n"
     ]
    }
   ],
   "source": [
    "param_dist = {\n",
    "    'rf__n_estimators': randint(100, 150),\n",
    "    'rf__max_depth': randint(2, 15),\n",
    "    'rf__min_samples_split': randint(2, 10),\n",
    "    'rf__min_samples_leaf': randint(1, 5),\n",
    "    'rf__max_features': ['sqrt', 'log2', None],\n",
    "    'rf__bootstrap': [True, False]\n",
    "}\n",
    "random_search = RandomizedSearchCV(\n",
    "    estimator=pipeline_rf,\n",
    "    param_distributions=param_dist,\n",
    "    n_iter=20,          \n",
    "    cv=5,                \n",
    "    scoring='accuracy',   \n",
    "    random_state=42,\n",
    "    n_jobs=-1,            \n",
    "    verbose=1           \n",
    ")\n",
    "\n",
    "random_search.fit(X_train, y_train)\n",
    "\n",
    "\n",
    "print(f\"mejores hiper-parametros:{random_search.best_params_}\")\n",
    "\n",
    "print(f\" Mejor score promedio (CV): {random_search.best_score_}\")\n",
    "print(f\"Accuracy en el conjunto de prueba: {random_search.score(X_test, y_test)}\")\n",
    "\n"
   ]
  },
  {
   "cell_type": "code",
   "execution_count": 69,
   "id": "0a869a7a",
   "metadata": {},
   "outputs": [
    {
     "ename": "KeyError",
     "evalue": "'rf__n_estimators'",
     "output_type": "error",
     "traceback": [
      "\u001b[31m---------------------------------------------------------------------------\u001b[39m",
      "\u001b[31mKeyError\u001b[39m                                  Traceback (most recent call last)",
      "\u001b[36mCell\u001b[39m\u001b[36m \u001b[39m\u001b[32mIn[69]\u001b[39m\u001b[32m, line 5\u001b[39m\n\u001b[32m      1\u001b[39m best_params_rf = random_search.best_params_\n\u001b[32m      4\u001b[39m param_grid_fino = {\n\u001b[32m----> \u001b[39m\u001b[32m5\u001b[39m     \u001b[33m'\u001b[39m\u001b[33mrf__n_estimators\u001b[39m\u001b[33m'\u001b[39m: [\u001b[43mbest_params_rf\u001b[49m\u001b[43m[\u001b[49m\u001b[33;43m'\u001b[39;49m\u001b[33;43mrf__n_estimators\u001b[39;49m\u001b[33;43m'\u001b[39;49m\u001b[43m]\u001b[49m - \u001b[32m10\u001b[39m,\n\u001b[32m      6\u001b[39m                          best_params_rf[\u001b[33m'\u001b[39m\u001b[33mrf__n_estimators\u001b[39m\u001b[33m'\u001b[39m],\n\u001b[32m      7\u001b[39m                          best_params_rf[\u001b[33m'\u001b[39m\u001b[33mrf__n_estimators\u001b[39m\u001b[33m'\u001b[39m] + \u001b[32m10\u001b[39m],\n\u001b[32m      8\u001b[39m     \u001b[33m'\u001b[39m\u001b[33mrf__max_depth\u001b[39m\u001b[33m'\u001b[39m: [best_params_rf[\u001b[33m'\u001b[39m\u001b[33mrf__max_depth\u001b[39m\u001b[33m'\u001b[39m] - \u001b[32m2\u001b[39m,\n\u001b[32m      9\u001b[39m                       best_params_rf[\u001b[33m'\u001b[39m\u001b[33mrf__max_depth\u001b[39m\u001b[33m'\u001b[39m],\n\u001b[32m     10\u001b[39m                       best_params_rf[\u001b[33m'\u001b[39m\u001b[33mrf__max_depth\u001b[39m\u001b[33m'\u001b[39m] + \u001b[32m2\u001b[39m],\n\u001b[32m     11\u001b[39m     \u001b[33m'\u001b[39m\u001b[33mrf__min_samples_split\u001b[39m\u001b[33m'\u001b[39m: [best_params_rf[\u001b[33m'\u001b[39m\u001b[33mrf__min_samples_split\u001b[39m\u001b[33m'\u001b[39m] - \u001b[32m1\u001b[39m,\n\u001b[32m     12\u001b[39m                               best_params_rf[\u001b[33m'\u001b[39m\u001b[33mrf__min_samples_split\u001b[39m\u001b[33m'\u001b[39m],\n\u001b[32m     13\u001b[39m                               best_params_rf[\u001b[33m'\u001b[39m\u001b[33mrf__min_samples_split\u001b[39m\u001b[33m'\u001b[39m] + \u001b[32m1\u001b[39m],\n\u001b[32m     14\u001b[39m     \u001b[33m'\u001b[39m\u001b[33mrf__min_samples_leaf\u001b[39m\u001b[33m'\u001b[39m: [best_params_rf[\u001b[33m'\u001b[39m\u001b[33mrf__min_samples_leaf\u001b[39m\u001b[33m'\u001b[39m]],\n\u001b[32m     15\u001b[39m     \u001b[33m'\u001b[39m\u001b[33mrf__max_features\u001b[39m\u001b[33m'\u001b[39m: [best_params_rf[\u001b[33m'\u001b[39m\u001b[33mrf__max_features\u001b[39m\u001b[33m'\u001b[39m]],\n\u001b[32m     16\u001b[39m     \u001b[33m'\u001b[39m\u001b[33mrf__bootstrap\u001b[39m\u001b[33m'\u001b[39m: [best_params_rf[\u001b[33m'\u001b[39m\u001b[33mrf__bootstrap\u001b[39m\u001b[33m'\u001b[39m]]\n\u001b[32m     17\u001b[39m }\n\u001b[32m     18\u001b[39m param_grid_fino = {\n\u001b[32m     19\u001b[39m     k: [v \u001b[38;5;28;01mfor\u001b[39;00m v \u001b[38;5;129;01min\u001b[39;00m vals \u001b[38;5;28;01mif\u001b[39;00m \u001b[38;5;28misinstance\u001b[39m(v, \u001b[38;5;28mint\u001b[39m) \u001b[38;5;129;01mand\u001b[39;00m v > \u001b[32m0\u001b[39m \u001b[38;5;129;01mor\u001b[39;00m \u001b[38;5;129;01mnot\u001b[39;00m \u001b[38;5;28misinstance\u001b[39m(v, \u001b[38;5;28mint\u001b[39m)] \n\u001b[32m     20\u001b[39m     \u001b[38;5;28;01mfor\u001b[39;00m k, vals \u001b[38;5;129;01min\u001b[39;00m param_grid_fino.items()\n\u001b[32m     21\u001b[39m }\n\u001b[32m     24\u001b[39m grid_search = GridSearchCV(\n\u001b[32m     25\u001b[39m     estimator=pipeline_rf,\n\u001b[32m     26\u001b[39m     param_grid=param_grid_fino,\n\u001b[32m   (...)\u001b[39m\u001b[32m     30\u001b[39m     verbose=\u001b[32m1\u001b[39m\n\u001b[32m     31\u001b[39m )\n",
      "\u001b[31mKeyError\u001b[39m: 'rf__n_estimators'"
     ]
    }
   ],
   "source": [
    "best_params_rf = random_search.best_params_\n",
    "\n",
    "\n",
    "param_grid_fino = {\n",
    "    'rf__n_estimators': [best_params_rf['rf__n_estimators'] - 10,\n",
    "                         best_params_rf['rf__n_estimators'],\n",
    "                         best_params_rf['rf__n_estimators'] + 10],\n",
    "    'rf__max_depth': [best_params_rf['rf__max_depth'] - 2,\n",
    "                      best_params_rf['rf__max_depth'],\n",
    "                      best_params_rf['rf__max_depth'] + 2],\n",
    "    'rf__min_samples_split': [best_params_rf['rf__min_samples_split'] - 1,\n",
    "                              best_params_rf['rf__min_samples_split'],\n",
    "                              best_params_rf['rf__min_samples_split'] + 1],\n",
    "    'rf__min_samples_leaf': [best_params_rf['rf__min_samples_leaf']],\n",
    "    'rf__max_features': [best_params_rf['rf__max_features']],\n",
    "    'rf__bootstrap': [best_params_rf['rf__bootstrap']]\n",
    "}\n",
    "param_grid_fino = {\n",
    "    k: [v for v in vals if isinstance(v, int) and v > 0 or not isinstance(v, int)] \n",
    "    for k, vals in param_grid_fino.items()\n",
    "}\n",
    "\n",
    "\n",
    "grid_search = GridSearchCV(\n",
    "    estimator=pipeline_rf,\n",
    "    param_grid=param_grid_fino,\n",
    "    cv=5,\n",
    "    scoring='accuracy',\n",
    "    n_jobs=-1,\n",
    "    verbose=1\n",
    ")\n",
    "\n",
    "grid_search.fit(X, y)\n",
    "\n",
    "print(\"Mejor score CV:\", grid_search.best_score_)\n",
    "print(\"Mejores parámetros finos:\", grid_search.best_params_)\n",
    "\n",
    "best_params_rf =  grid_search.best_params_"
   ]
  },
  {
   "cell_type": "code",
   "execution_count": null,
   "id": "a353ebcf",
   "metadata": {},
   "outputs": [
    {
     "ename": "NameError",
     "evalue": "name 'best_params_rlg' is not defined",
     "output_type": "error",
     "traceback": [
      "\u001b[31m---------------------------------------------------------------------------\u001b[39m",
      "\u001b[31mNameError\u001b[39m                                 Traceback (most recent call last)",
      "\u001b[36mCell\u001b[39m\u001b[36m \u001b[39m\u001b[32mIn[27]\u001b[39m\u001b[32m, line 6\u001b[39m\n\u001b[32m      1\u001b[39m \u001b[38;5;28;01mfrom\u001b[39;00m\u001b[38;5;250m \u001b[39m\u001b[34;01msklearn\u001b[39;00m\u001b[34;01m.\u001b[39;00m\u001b[34;01mensemble\u001b[39;00m\u001b[38;5;250m \u001b[39m\u001b[38;5;28;01mimport\u001b[39;00m RandomForestClassifier, VotingClassifier\n\u001b[32m      5\u001b[39m rlg_best = LogisticRegression(\n\u001b[32m----> \u001b[39m\u001b[32m6\u001b[39m     C=\u001b[43mbest_params_rlg\u001b[49m[\u001b[33m'\u001b[39m\u001b[33mrlg__C\u001b[39m\u001b[33m'\u001b[39m],\n\u001b[32m      7\u001b[39m     penalty=best_params_rlg[\u001b[33m'\u001b[39m\u001b[33mrlg__penalty\u001b[39m\u001b[33m'\u001b[39m],\n\u001b[32m      8\u001b[39m     solver=best_params_rlg[\u001b[33m'\u001b[39m\u001b[33mrlg__solver\u001b[39m\u001b[33m'\u001b[39m],\n\u001b[32m      9\u001b[39m     max_iter=best_params_rlg[\u001b[33m'\u001b[39m\u001b[33mrlg__max_iter\u001b[39m\u001b[33m'\u001b[39m],\n\u001b[32m     10\u001b[39m     random_state=\u001b[32m42\u001b[39m\n\u001b[32m     11\u001b[39m )\n\u001b[32m     13\u001b[39m rf_best = RandomForestClassifier(\n\u001b[32m     14\u001b[39m     n_estimators=\u001b[32m200\u001b[39m, \n\u001b[32m     15\u001b[39m     max_depth=\u001b[38;5;28;01mNone\u001b[39;00m,\n\u001b[32m     16\u001b[39m     random_state=\u001b[32m42\u001b[39m\n\u001b[32m     17\u001b[39m )\n\u001b[32m     19\u001b[39m voting_clf = VotingClassifier(\n\u001b[32m     20\u001b[39m     estimators=[(\u001b[33m'\u001b[39m\u001b[33mrlg\u001b[39m\u001b[33m'\u001b[39m, rlg_best), (\u001b[33m'\u001b[39m\u001b[33mrf\u001b[39m\u001b[33m'\u001b[39m, rf_best)],\n\u001b[32m     21\u001b[39m     voting=\u001b[33m'\u001b[39m\u001b[33msoft\u001b[39m\u001b[33m'\u001b[39m,  \n\u001b[32m     22\u001b[39m     n_jobs=-\u001b[32m1\u001b[39m\n\u001b[32m     23\u001b[39m )\n",
      "\u001b[31mNameError\u001b[39m: name 'best_params_rlg' is not defined"
     ]
    }
   ],
   "source": []
  }
 ],
 "metadata": {
  "kernelspec": {
   "display_name": "venv (3.14.0)",
   "language": "python",
   "name": "python3"
  },
  "language_info": {
   "codemirror_mode": {
    "name": "ipython",
    "version": 3
   },
   "file_extension": ".py",
   "mimetype": "text/x-python",
   "name": "python",
   "nbconvert_exporter": "python",
   "pygments_lexer": "ipython3",
   "version": "3.14.0"
  }
 },
 "nbformat": 4,
 "nbformat_minor": 5
}
